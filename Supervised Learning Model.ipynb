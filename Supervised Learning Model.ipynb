{
  "nbformat": 4,
  "nbformat_minor": 0,
  "metadata": {
    "colab": {
      "name": "Tupro 1 Supervised Learning.ipynb",
      "provenance": [],
      "collapsed_sections": [],
      "toc_visible": true
    },
    "kernelspec": {
      "name": "python3",
      "display_name": "Python 3"
    },
    "language_info": {
      "name": "python"
    }
  },
  "cells": [
    {
      "cell_type": "markdown",
      "metadata": {
        "id": "ojWMzis6xehG"
      },
      "source": [
        "# Import Lib"
      ]
    },
    {
      "cell_type": "code",
      "metadata": {
        "id": "3l7nV3hEW8EL"
      },
      "source": [
        "import pandas as pd\n",
        "import numpy as np\n",
        "\n",
        "from matplotlib import pyplot as plt\n",
        "import seaborn as sns\n",
        "\n",
        "from sklearn.preprocessing import LabelEncoder\n",
        "from sklearn.impute import KNNImputer\n",
        "from sklearn.preprocessing import StandardScaler\n",
        "\n",
        "from sklearn.neighbors import KNeighborsClassifier  \n",
        "from sklearn.svm import SVC\n",
        "\n",
        "from sklearn.model_selection import cross_val_score\n",
        "from sklearn.metrics import classification_report, confusion_matrix, accuracy_score, f1_score"
      ],
      "execution_count": null,
      "outputs": []
    },
    {
      "cell_type": "code",
      "metadata": {
        "colab": {
          "base_uri": "https://localhost:8080/"
        },
        "id": "HI9xw8O9WihU",
        "outputId": "c21c9af7-0ba5-4b88-e3f0-3f05c110d7b6"
      },
      "source": [
        "from google.colab import drive\n",
        "drive.mount('/content/drive')"
      ],
      "execution_count": null,
      "outputs": [
        {
          "output_type": "stream",
          "text": [
            "Mounted at /content/drive\n"
          ],
          "name": "stdout"
        }
      ]
    },
    {
      "cell_type": "markdown",
      "metadata": {
        "id": "r4OYgZeguxtg"
      },
      "source": [
        "# Preprocessing Part 1"
      ]
    },
    {
      "cell_type": "code",
      "metadata": {
        "id": "1kijkDrhXLYr"
      },
      "source": [
        "data = pd.read_csv(\"/content/drive/MyDrive/Kuliah/Semester 6/ML_Malin_Machine Learning/Tugas/Tubes 1/kendaraan/kendaraan_train.csv\")"
      ],
      "execution_count": null,
      "outputs": []
    },
    {
      "cell_type": "code",
      "metadata": {
        "colab": {
          "base_uri": "https://localhost:8080/"
        },
        "id": "XsjTMrgrXYLp",
        "outputId": "61eed0af-c498-464c-e3d9-6e1bfc8fcfba"
      },
      "source": [
        "data"
      ],
      "execution_count": null,
      "outputs": [
        {
          "output_type": "execute_result",
          "data": {
            "text/html": [
              "<div>\n",
              "<style scoped>\n",
              "    .dataframe tbody tr th:only-of-type {\n",
              "        vertical-align: middle;\n",
              "    }\n",
              "\n",
              "    .dataframe tbody tr th {\n",
              "        vertical-align: top;\n",
              "    }\n",
              "\n",
              "    .dataframe thead th {\n",
              "        text-align: right;\n",
              "    }\n",
              "</style>\n",
              "<table border=\"1\" class=\"dataframe\">\n",
              "  <thead>\n",
              "    <tr style=\"text-align: right;\">\n",
              "      <th></th>\n",
              "      <th>id</th>\n",
              "      <th>Jenis_Kelamin</th>\n",
              "      <th>Umur</th>\n",
              "      <th>SIM</th>\n",
              "      <th>Kode_Daerah</th>\n",
              "      <th>Sudah_Asuransi</th>\n",
              "      <th>Umur_Kendaraan</th>\n",
              "      <th>Kendaraan_Rusak</th>\n",
              "      <th>Premi</th>\n",
              "      <th>Kanal_Penjualan</th>\n",
              "      <th>Lama_Berlangganan</th>\n",
              "      <th>Tertarik</th>\n",
              "    </tr>\n",
              "  </thead>\n",
              "  <tbody>\n",
              "    <tr>\n",
              "      <th>0</th>\n",
              "      <td>1</td>\n",
              "      <td>Wanita</td>\n",
              "      <td>30.0</td>\n",
              "      <td>1.0</td>\n",
              "      <td>33.0</td>\n",
              "      <td>1.0</td>\n",
              "      <td>&lt; 1 Tahun</td>\n",
              "      <td>Tidak</td>\n",
              "      <td>28029.0</td>\n",
              "      <td>152.0</td>\n",
              "      <td>97.0</td>\n",
              "      <td>0</td>\n",
              "    </tr>\n",
              "    <tr>\n",
              "      <th>1</th>\n",
              "      <td>2</td>\n",
              "      <td>Pria</td>\n",
              "      <td>48.0</td>\n",
              "      <td>1.0</td>\n",
              "      <td>39.0</td>\n",
              "      <td>0.0</td>\n",
              "      <td>&gt; 2 Tahun</td>\n",
              "      <td>Pernah</td>\n",
              "      <td>25800.0</td>\n",
              "      <td>29.0</td>\n",
              "      <td>158.0</td>\n",
              "      <td>0</td>\n",
              "    </tr>\n",
              "    <tr>\n",
              "      <th>2</th>\n",
              "      <td>3</td>\n",
              "      <td>NaN</td>\n",
              "      <td>21.0</td>\n",
              "      <td>1.0</td>\n",
              "      <td>46.0</td>\n",
              "      <td>1.0</td>\n",
              "      <td>&lt; 1 Tahun</td>\n",
              "      <td>Tidak</td>\n",
              "      <td>32733.0</td>\n",
              "      <td>160.0</td>\n",
              "      <td>119.0</td>\n",
              "      <td>0</td>\n",
              "    </tr>\n",
              "    <tr>\n",
              "      <th>3</th>\n",
              "      <td>4</td>\n",
              "      <td>Wanita</td>\n",
              "      <td>58.0</td>\n",
              "      <td>1.0</td>\n",
              "      <td>48.0</td>\n",
              "      <td>0.0</td>\n",
              "      <td>1-2 Tahun</td>\n",
              "      <td>Tidak</td>\n",
              "      <td>2630.0</td>\n",
              "      <td>124.0</td>\n",
              "      <td>63.0</td>\n",
              "      <td>0</td>\n",
              "    </tr>\n",
              "    <tr>\n",
              "      <th>4</th>\n",
              "      <td>5</td>\n",
              "      <td>Pria</td>\n",
              "      <td>50.0</td>\n",
              "      <td>1.0</td>\n",
              "      <td>35.0</td>\n",
              "      <td>0.0</td>\n",
              "      <td>&gt; 2 Tahun</td>\n",
              "      <td>NaN</td>\n",
              "      <td>34857.0</td>\n",
              "      <td>88.0</td>\n",
              "      <td>194.0</td>\n",
              "      <td>0</td>\n",
              "    </tr>\n",
              "    <tr>\n",
              "      <th>...</th>\n",
              "      <td>...</td>\n",
              "      <td>...</td>\n",
              "      <td>...</td>\n",
              "      <td>...</td>\n",
              "      <td>...</td>\n",
              "      <td>...</td>\n",
              "      <td>...</td>\n",
              "      <td>...</td>\n",
              "      <td>...</td>\n",
              "      <td>...</td>\n",
              "      <td>...</td>\n",
              "      <td>...</td>\n",
              "    </tr>\n",
              "    <tr>\n",
              "      <th>285826</th>\n",
              "      <td>285827</td>\n",
              "      <td>Wanita</td>\n",
              "      <td>23.0</td>\n",
              "      <td>1.0</td>\n",
              "      <td>4.0</td>\n",
              "      <td>1.0</td>\n",
              "      <td>&lt; 1 Tahun</td>\n",
              "      <td>Tidak</td>\n",
              "      <td>25988.0</td>\n",
              "      <td>152.0</td>\n",
              "      <td>217.0</td>\n",
              "      <td>0</td>\n",
              "    </tr>\n",
              "    <tr>\n",
              "      <th>285827</th>\n",
              "      <td>285828</td>\n",
              "      <td>Wanita</td>\n",
              "      <td>21.0</td>\n",
              "      <td>1.0</td>\n",
              "      <td>46.0</td>\n",
              "      <td>1.0</td>\n",
              "      <td>&lt; 1 Tahun</td>\n",
              "      <td>Tidak</td>\n",
              "      <td>44686.0</td>\n",
              "      <td>152.0</td>\n",
              "      <td>50.0</td>\n",
              "      <td>0</td>\n",
              "    </tr>\n",
              "    <tr>\n",
              "      <th>285828</th>\n",
              "      <td>285829</td>\n",
              "      <td>Wanita</td>\n",
              "      <td>23.0</td>\n",
              "      <td>1.0</td>\n",
              "      <td>50.0</td>\n",
              "      <td>1.0</td>\n",
              "      <td>&lt; 1 Tahun</td>\n",
              "      <td>Tidak</td>\n",
              "      <td>49751.0</td>\n",
              "      <td>152.0</td>\n",
              "      <td>226.0</td>\n",
              "      <td>0</td>\n",
              "    </tr>\n",
              "    <tr>\n",
              "      <th>285829</th>\n",
              "      <td>285830</td>\n",
              "      <td>Pria</td>\n",
              "      <td>68.0</td>\n",
              "      <td>1.0</td>\n",
              "      <td>7.0</td>\n",
              "      <td>1.0</td>\n",
              "      <td>1-2 Tahun</td>\n",
              "      <td>Tidak</td>\n",
              "      <td>30503.0</td>\n",
              "      <td>124.0</td>\n",
              "      <td>270.0</td>\n",
              "      <td>0</td>\n",
              "    </tr>\n",
              "    <tr>\n",
              "      <th>285830</th>\n",
              "      <td>285831</td>\n",
              "      <td>Pria</td>\n",
              "      <td>45.0</td>\n",
              "      <td>1.0</td>\n",
              "      <td>28.0</td>\n",
              "      <td>0.0</td>\n",
              "      <td>1-2 Tahun</td>\n",
              "      <td>Pernah</td>\n",
              "      <td>36480.0</td>\n",
              "      <td>26.0</td>\n",
              "      <td>44.0</td>\n",
              "      <td>0</td>\n",
              "    </tr>\n",
              "  </tbody>\n",
              "</table>\n",
              "<p>285831 rows × 12 columns</p>\n",
              "</div>"
            ],
            "text/plain": [
              "            id Jenis_Kelamin  ...  Lama_Berlangganan  Tertarik\n",
              "0            1        Wanita  ...               97.0         0\n",
              "1            2          Pria  ...              158.0         0\n",
              "2            3           NaN  ...              119.0         0\n",
              "3            4        Wanita  ...               63.0         0\n",
              "4            5          Pria  ...              194.0         0\n",
              "...        ...           ...  ...                ...       ...\n",
              "285826  285827        Wanita  ...              217.0         0\n",
              "285827  285828        Wanita  ...               50.0         0\n",
              "285828  285829        Wanita  ...              226.0         0\n",
              "285829  285830          Pria  ...              270.0         0\n",
              "285830  285831          Pria  ...               44.0         0\n",
              "\n",
              "[285831 rows x 12 columns]"
            ]
          },
          "metadata": {
            "tags": []
          },
          "execution_count": 4
        }
      ]
    },
    {
      "cell_type": "code",
      "metadata": {
        "colab": {
          "base_uri": "https://localhost:8080/"
        },
        "id": "b6AC-G1RZf-p",
        "outputId": "b8a502d7-f078-493e-9acc-e9bb34ff7538"
      },
      "source": [
        "data.dtypes"
      ],
      "execution_count": null,
      "outputs": [
        {
          "output_type": "execute_result",
          "data": {
            "text/plain": [
              "id                     int64\n",
              "Jenis_Kelamin         object\n",
              "Umur                 float64\n",
              "SIM                  float64\n",
              "Kode_Daerah          float64\n",
              "Sudah_Asuransi       float64\n",
              "Umur_Kendaraan        object\n",
              "Kendaraan_Rusak       object\n",
              "Premi                float64\n",
              "Kanal_Penjualan      float64\n",
              "Lama_Berlangganan    float64\n",
              "Tertarik               int64\n",
              "dtype: object"
            ]
          },
          "metadata": {
            "tags": []
          },
          "execution_count": 5
        }
      ]
    },
    {
      "cell_type": "code",
      "metadata": {
        "id": "v_7riNuSXutS"
      },
      "source": [
        "fitur_encode = [\"Jenis_Kelamin\", \"Umur_Kendaraan\", \"Kendaraan_Rusak\"] #Pemilihan fitur yang akan digunakan\n",
        "labelencoder = LabelEncoder() #Menggunakan label encoder agar data menjadi machine readable\n",
        "\n",
        "# Menggunakan label encoder kepada fitur yang sudah dipilih\n",
        "data[fitur_encode] = data[fitur_encode].apply(lambda series: pd.Series(\n",
        "    labelencoder.fit_transform(series[series.notnull()]),\n",
        "    index = series[series.notnull()].index\n",
        "  ))\n"
      ],
      "execution_count": null,
      "outputs": []
    },
    {
      "cell_type": "code",
      "metadata": {
        "id": "VaPdub8bZeGn"
      },
      "source": [
        "data.drop([\"id\"], axis=1, inplace=True) #Drop data yang tidak relevan"
      ],
      "execution_count": null,
      "outputs": []
    },
    {
      "cell_type": "code",
      "metadata": {
        "colab": {
          "base_uri": "https://localhost:8080/"
        },
        "id": "8hIRXJqEZx12",
        "outputId": "10712f48-e330-45e9-8ad3-7d5ad18ab2c3"
      },
      "source": [
        "data"
      ],
      "execution_count": null,
      "outputs": [
        {
          "output_type": "execute_result",
          "data": {
            "text/html": [
              "<div>\n",
              "<style scoped>\n",
              "    .dataframe tbody tr th:only-of-type {\n",
              "        vertical-align: middle;\n",
              "    }\n",
              "\n",
              "    .dataframe tbody tr th {\n",
              "        vertical-align: top;\n",
              "    }\n",
              "\n",
              "    .dataframe thead th {\n",
              "        text-align: right;\n",
              "    }\n",
              "</style>\n",
              "<table border=\"1\" class=\"dataframe\">\n",
              "  <thead>\n",
              "    <tr style=\"text-align: right;\">\n",
              "      <th></th>\n",
              "      <th>Jenis_Kelamin</th>\n",
              "      <th>Umur</th>\n",
              "      <th>SIM</th>\n",
              "      <th>Kode_Daerah</th>\n",
              "      <th>Sudah_Asuransi</th>\n",
              "      <th>Umur_Kendaraan</th>\n",
              "      <th>Kendaraan_Rusak</th>\n",
              "      <th>Premi</th>\n",
              "      <th>Kanal_Penjualan</th>\n",
              "      <th>Lama_Berlangganan</th>\n",
              "      <th>Tertarik</th>\n",
              "    </tr>\n",
              "  </thead>\n",
              "  <tbody>\n",
              "    <tr>\n",
              "      <th>0</th>\n",
              "      <td>1.0</td>\n",
              "      <td>30.0</td>\n",
              "      <td>1.0</td>\n",
              "      <td>33.0</td>\n",
              "      <td>1.0</td>\n",
              "      <td>1.0</td>\n",
              "      <td>1.0</td>\n",
              "      <td>28029.0</td>\n",
              "      <td>152.0</td>\n",
              "      <td>97.0</td>\n",
              "      <td>0</td>\n",
              "    </tr>\n",
              "    <tr>\n",
              "      <th>1</th>\n",
              "      <td>0.0</td>\n",
              "      <td>48.0</td>\n",
              "      <td>1.0</td>\n",
              "      <td>39.0</td>\n",
              "      <td>0.0</td>\n",
              "      <td>2.0</td>\n",
              "      <td>0.0</td>\n",
              "      <td>25800.0</td>\n",
              "      <td>29.0</td>\n",
              "      <td>158.0</td>\n",
              "      <td>0</td>\n",
              "    </tr>\n",
              "    <tr>\n",
              "      <th>2</th>\n",
              "      <td>NaN</td>\n",
              "      <td>21.0</td>\n",
              "      <td>1.0</td>\n",
              "      <td>46.0</td>\n",
              "      <td>1.0</td>\n",
              "      <td>1.0</td>\n",
              "      <td>1.0</td>\n",
              "      <td>32733.0</td>\n",
              "      <td>160.0</td>\n",
              "      <td>119.0</td>\n",
              "      <td>0</td>\n",
              "    </tr>\n",
              "    <tr>\n",
              "      <th>3</th>\n",
              "      <td>1.0</td>\n",
              "      <td>58.0</td>\n",
              "      <td>1.0</td>\n",
              "      <td>48.0</td>\n",
              "      <td>0.0</td>\n",
              "      <td>0.0</td>\n",
              "      <td>1.0</td>\n",
              "      <td>2630.0</td>\n",
              "      <td>124.0</td>\n",
              "      <td>63.0</td>\n",
              "      <td>0</td>\n",
              "    </tr>\n",
              "    <tr>\n",
              "      <th>4</th>\n",
              "      <td>0.0</td>\n",
              "      <td>50.0</td>\n",
              "      <td>1.0</td>\n",
              "      <td>35.0</td>\n",
              "      <td>0.0</td>\n",
              "      <td>2.0</td>\n",
              "      <td>NaN</td>\n",
              "      <td>34857.0</td>\n",
              "      <td>88.0</td>\n",
              "      <td>194.0</td>\n",
              "      <td>0</td>\n",
              "    </tr>\n",
              "    <tr>\n",
              "      <th>...</th>\n",
              "      <td>...</td>\n",
              "      <td>...</td>\n",
              "      <td>...</td>\n",
              "      <td>...</td>\n",
              "      <td>...</td>\n",
              "      <td>...</td>\n",
              "      <td>...</td>\n",
              "      <td>...</td>\n",
              "      <td>...</td>\n",
              "      <td>...</td>\n",
              "      <td>...</td>\n",
              "    </tr>\n",
              "    <tr>\n",
              "      <th>285826</th>\n",
              "      <td>1.0</td>\n",
              "      <td>23.0</td>\n",
              "      <td>1.0</td>\n",
              "      <td>4.0</td>\n",
              "      <td>1.0</td>\n",
              "      <td>1.0</td>\n",
              "      <td>1.0</td>\n",
              "      <td>25988.0</td>\n",
              "      <td>152.0</td>\n",
              "      <td>217.0</td>\n",
              "      <td>0</td>\n",
              "    </tr>\n",
              "    <tr>\n",
              "      <th>285827</th>\n",
              "      <td>1.0</td>\n",
              "      <td>21.0</td>\n",
              "      <td>1.0</td>\n",
              "      <td>46.0</td>\n",
              "      <td>1.0</td>\n",
              "      <td>1.0</td>\n",
              "      <td>1.0</td>\n",
              "      <td>44686.0</td>\n",
              "      <td>152.0</td>\n",
              "      <td>50.0</td>\n",
              "      <td>0</td>\n",
              "    </tr>\n",
              "    <tr>\n",
              "      <th>285828</th>\n",
              "      <td>1.0</td>\n",
              "      <td>23.0</td>\n",
              "      <td>1.0</td>\n",
              "      <td>50.0</td>\n",
              "      <td>1.0</td>\n",
              "      <td>1.0</td>\n",
              "      <td>1.0</td>\n",
              "      <td>49751.0</td>\n",
              "      <td>152.0</td>\n",
              "      <td>226.0</td>\n",
              "      <td>0</td>\n",
              "    </tr>\n",
              "    <tr>\n",
              "      <th>285829</th>\n",
              "      <td>0.0</td>\n",
              "      <td>68.0</td>\n",
              "      <td>1.0</td>\n",
              "      <td>7.0</td>\n",
              "      <td>1.0</td>\n",
              "      <td>0.0</td>\n",
              "      <td>1.0</td>\n",
              "      <td>30503.0</td>\n",
              "      <td>124.0</td>\n",
              "      <td>270.0</td>\n",
              "      <td>0</td>\n",
              "    </tr>\n",
              "    <tr>\n",
              "      <th>285830</th>\n",
              "      <td>0.0</td>\n",
              "      <td>45.0</td>\n",
              "      <td>1.0</td>\n",
              "      <td>28.0</td>\n",
              "      <td>0.0</td>\n",
              "      <td>0.0</td>\n",
              "      <td>0.0</td>\n",
              "      <td>36480.0</td>\n",
              "      <td>26.0</td>\n",
              "      <td>44.0</td>\n",
              "      <td>0</td>\n",
              "    </tr>\n",
              "  </tbody>\n",
              "</table>\n",
              "<p>285831 rows × 11 columns</p>\n",
              "</div>"
            ],
            "text/plain": [
              "        Jenis_Kelamin  Umur  SIM  ...  Kanal_Penjualan  Lama_Berlangganan  Tertarik\n",
              "0                 1.0  30.0  1.0  ...            152.0               97.0         0\n",
              "1                 0.0  48.0  1.0  ...             29.0              158.0         0\n",
              "2                 NaN  21.0  1.0  ...            160.0              119.0         0\n",
              "3                 1.0  58.0  1.0  ...            124.0               63.0         0\n",
              "4                 0.0  50.0  1.0  ...             88.0              194.0         0\n",
              "...               ...   ...  ...  ...              ...                ...       ...\n",
              "285826            1.0  23.0  1.0  ...            152.0              217.0         0\n",
              "285827            1.0  21.0  1.0  ...            152.0               50.0         0\n",
              "285828            1.0  23.0  1.0  ...            152.0              226.0         0\n",
              "285829            0.0  68.0  1.0  ...            124.0              270.0         0\n",
              "285830            0.0  45.0  1.0  ...             26.0               44.0         0\n",
              "\n",
              "[285831 rows x 11 columns]"
            ]
          },
          "metadata": {
            "tags": []
          },
          "execution_count": 8
        }
      ]
    },
    {
      "cell_type": "code",
      "metadata": {
        "id": "kFb-1PKpa90n"
      },
      "source": [
        "imputer = KNNImputer(n_neighbors=5) #KNN inputer digunakan untuk mencari nilai pengganti dari data yang null\n",
        "data_nonull = pd.DataFrame(imputer.fit_transform(data),columns = data.columns) #Hilangkan data null menggunakan hasil perhitungan knn imputer"
      ],
      "execution_count": null,
      "outputs": []
    },
    {
      "cell_type": "markdown",
      "metadata": {
        "id": "G_6R5R89hKFk"
      },
      "source": [
        "# Data Nonull"
      ]
    },
    {
      "cell_type": "code",
      "metadata": {
        "id": "VY31pkn9bhVX"
      },
      "source": [
        "# data_nonull.to_csv(\"/content/drive/MyDrive/Kuliah/Semester 6/ML_Malin_Machine Learning/Tugas/Tubes 1/kendaraan/kendaraan_train_nonull.csv\", index=False)\n",
        "data_nonull = pd.read_csv(\"/content/drive/MyDrive/Kuliah/Semester 6/ML_Malin_Machine Learning/Tugas/Tubes 1/kendaraan/kendaraan_train_nonull.csv\")"
      ],
      "execution_count": null,
      "outputs": []
    },
    {
      "cell_type": "code",
      "metadata": {
        "colab": {
          "base_uri": "https://localhost:8080/",
          "height": 422
        },
        "id": "RUROiIgogEzq",
        "outputId": "7afb7b79-07d4-42b0-8d03-c26340e7457b"
      },
      "source": [
        "data_nonull"
      ],
      "execution_count": null,
      "outputs": [
        {
          "output_type": "execute_result",
          "data": {
            "text/html": [
              "<div>\n",
              "<style scoped>\n",
              "    .dataframe tbody tr th:only-of-type {\n",
              "        vertical-align: middle;\n",
              "    }\n",
              "\n",
              "    .dataframe tbody tr th {\n",
              "        vertical-align: top;\n",
              "    }\n",
              "\n",
              "    .dataframe thead th {\n",
              "        text-align: right;\n",
              "    }\n",
              "</style>\n",
              "<table border=\"1\" class=\"dataframe\">\n",
              "  <thead>\n",
              "    <tr style=\"text-align: right;\">\n",
              "      <th></th>\n",
              "      <th>Jenis_Kelamin</th>\n",
              "      <th>Umur</th>\n",
              "      <th>SIM</th>\n",
              "      <th>Kode_Daerah</th>\n",
              "      <th>Sudah_Asuransi</th>\n",
              "      <th>Umur_Kendaraan</th>\n",
              "      <th>Kendaraan_Rusak</th>\n",
              "      <th>Premi</th>\n",
              "      <th>Kanal_Penjualan</th>\n",
              "      <th>Lama_Berlangganan</th>\n",
              "      <th>Tertarik</th>\n",
              "    </tr>\n",
              "  </thead>\n",
              "  <tbody>\n",
              "    <tr>\n",
              "      <th>0</th>\n",
              "      <td>1.0</td>\n",
              "      <td>30.0</td>\n",
              "      <td>1.0</td>\n",
              "      <td>33.0</td>\n",
              "      <td>1.0</td>\n",
              "      <td>1.0</td>\n",
              "      <td>1.0</td>\n",
              "      <td>28029.0</td>\n",
              "      <td>152.0</td>\n",
              "      <td>97.0</td>\n",
              "      <td>0.0</td>\n",
              "    </tr>\n",
              "    <tr>\n",
              "      <th>1</th>\n",
              "      <td>0.0</td>\n",
              "      <td>48.0</td>\n",
              "      <td>1.0</td>\n",
              "      <td>39.0</td>\n",
              "      <td>0.0</td>\n",
              "      <td>2.0</td>\n",
              "      <td>0.0</td>\n",
              "      <td>25800.0</td>\n",
              "      <td>29.0</td>\n",
              "      <td>158.0</td>\n",
              "      <td>0.0</td>\n",
              "    </tr>\n",
              "    <tr>\n",
              "      <th>2</th>\n",
              "      <td>0.6</td>\n",
              "      <td>21.0</td>\n",
              "      <td>1.0</td>\n",
              "      <td>46.0</td>\n",
              "      <td>1.0</td>\n",
              "      <td>1.0</td>\n",
              "      <td>1.0</td>\n",
              "      <td>32733.0</td>\n",
              "      <td>160.0</td>\n",
              "      <td>119.0</td>\n",
              "      <td>0.0</td>\n",
              "    </tr>\n",
              "    <tr>\n",
              "      <th>3</th>\n",
              "      <td>1.0</td>\n",
              "      <td>58.0</td>\n",
              "      <td>1.0</td>\n",
              "      <td>48.0</td>\n",
              "      <td>0.0</td>\n",
              "      <td>0.0</td>\n",
              "      <td>1.0</td>\n",
              "      <td>2630.0</td>\n",
              "      <td>124.0</td>\n",
              "      <td>63.0</td>\n",
              "      <td>0.0</td>\n",
              "    </tr>\n",
              "    <tr>\n",
              "      <th>4</th>\n",
              "      <td>0.0</td>\n",
              "      <td>50.0</td>\n",
              "      <td>1.0</td>\n",
              "      <td>35.0</td>\n",
              "      <td>0.0</td>\n",
              "      <td>2.0</td>\n",
              "      <td>0.4</td>\n",
              "      <td>34857.0</td>\n",
              "      <td>88.0</td>\n",
              "      <td>194.0</td>\n",
              "      <td>0.0</td>\n",
              "    </tr>\n",
              "    <tr>\n",
              "      <th>...</th>\n",
              "      <td>...</td>\n",
              "      <td>...</td>\n",
              "      <td>...</td>\n",
              "      <td>...</td>\n",
              "      <td>...</td>\n",
              "      <td>...</td>\n",
              "      <td>...</td>\n",
              "      <td>...</td>\n",
              "      <td>...</td>\n",
              "      <td>...</td>\n",
              "      <td>...</td>\n",
              "    </tr>\n",
              "    <tr>\n",
              "      <th>285826</th>\n",
              "      <td>1.0</td>\n",
              "      <td>23.0</td>\n",
              "      <td>1.0</td>\n",
              "      <td>4.0</td>\n",
              "      <td>1.0</td>\n",
              "      <td>1.0</td>\n",
              "      <td>1.0</td>\n",
              "      <td>25988.0</td>\n",
              "      <td>152.0</td>\n",
              "      <td>217.0</td>\n",
              "      <td>0.0</td>\n",
              "    </tr>\n",
              "    <tr>\n",
              "      <th>285827</th>\n",
              "      <td>1.0</td>\n",
              "      <td>21.0</td>\n",
              "      <td>1.0</td>\n",
              "      <td>46.0</td>\n",
              "      <td>1.0</td>\n",
              "      <td>1.0</td>\n",
              "      <td>1.0</td>\n",
              "      <td>44686.0</td>\n",
              "      <td>152.0</td>\n",
              "      <td>50.0</td>\n",
              "      <td>0.0</td>\n",
              "    </tr>\n",
              "    <tr>\n",
              "      <th>285828</th>\n",
              "      <td>1.0</td>\n",
              "      <td>23.0</td>\n",
              "      <td>1.0</td>\n",
              "      <td>50.0</td>\n",
              "      <td>1.0</td>\n",
              "      <td>1.0</td>\n",
              "      <td>1.0</td>\n",
              "      <td>49751.0</td>\n",
              "      <td>152.0</td>\n",
              "      <td>226.0</td>\n",
              "      <td>0.0</td>\n",
              "    </tr>\n",
              "    <tr>\n",
              "      <th>285829</th>\n",
              "      <td>0.0</td>\n",
              "      <td>68.0</td>\n",
              "      <td>1.0</td>\n",
              "      <td>7.0</td>\n",
              "      <td>1.0</td>\n",
              "      <td>0.0</td>\n",
              "      <td>1.0</td>\n",
              "      <td>30503.0</td>\n",
              "      <td>124.0</td>\n",
              "      <td>270.0</td>\n",
              "      <td>0.0</td>\n",
              "    </tr>\n",
              "    <tr>\n",
              "      <th>285830</th>\n",
              "      <td>0.0</td>\n",
              "      <td>45.0</td>\n",
              "      <td>1.0</td>\n",
              "      <td>28.0</td>\n",
              "      <td>0.0</td>\n",
              "      <td>0.0</td>\n",
              "      <td>0.0</td>\n",
              "      <td>36480.0</td>\n",
              "      <td>26.0</td>\n",
              "      <td>44.0</td>\n",
              "      <td>0.0</td>\n",
              "    </tr>\n",
              "  </tbody>\n",
              "</table>\n",
              "<p>285831 rows × 11 columns</p>\n",
              "</div>"
            ],
            "text/plain": [
              "        Jenis_Kelamin  Umur  SIM  ...  Kanal_Penjualan  Lama_Berlangganan  Tertarik\n",
              "0                 1.0  30.0  1.0  ...            152.0               97.0       0.0\n",
              "1                 0.0  48.0  1.0  ...             29.0              158.0       0.0\n",
              "2                 0.6  21.0  1.0  ...            160.0              119.0       0.0\n",
              "3                 1.0  58.0  1.0  ...            124.0               63.0       0.0\n",
              "4                 0.0  50.0  1.0  ...             88.0              194.0       0.0\n",
              "...               ...   ...  ...  ...              ...                ...       ...\n",
              "285826            1.0  23.0  1.0  ...            152.0              217.0       0.0\n",
              "285827            1.0  21.0  1.0  ...            152.0               50.0       0.0\n",
              "285828            1.0  23.0  1.0  ...            152.0              226.0       0.0\n",
              "285829            0.0  68.0  1.0  ...            124.0              270.0       0.0\n",
              "285830            0.0  45.0  1.0  ...             26.0               44.0       0.0\n",
              "\n",
              "[285831 rows x 11 columns]"
            ]
          },
          "metadata": {
            "tags": []
          },
          "execution_count": 4
        }
      ]
    },
    {
      "cell_type": "code",
      "metadata": {
        "id": "_5KnToMdBAc5"
      },
      "source": [
        "#Membulatkan nilai data null yang sudah diisi data knn inputer\n",
        "for i in [\"Jenis_Kelamin\", \"SIM\", \"Sudah_Asuransi\", \"Umur_Kendaraan\", \"Kendaraan_Rusak\"]:\n",
        "  data_nonull[i] = data_nonull[i].round()\n",
        "  "
      ],
      "execution_count": null,
      "outputs": []
    },
    {
      "cell_type": "code",
      "metadata": {
        "id": "3J9cINeuyJEB"
      },
      "source": [
        "dropped = [\"Umur\", \"Sudah_Asuransi\", \"Kanal_Penjualan\"] #Pilih fitur yang memiliki nilai korelasi tinggi\n",
        "data_nonull = data_nonull.drop(dropped, axis=1) #Drop fitur yang sudah dipilih"
      ],
      "execution_count": null,
      "outputs": []
    },
    {
      "cell_type": "code",
      "metadata": {
        "id": "VrHAAl3fyL_R"
      },
      "source": [
        "data_nonull = data_nonull.drop_duplicates().reset_index(drop=True) #Drop data yang memiliki nilai duplikat"
      ],
      "execution_count": null,
      "outputs": []
    },
    {
      "cell_type": "code",
      "metadata": {
        "id": "u5zh-ETBAYBA",
        "colab": {
          "base_uri": "https://localhost:8080/",
          "height": 402
        },
        "outputId": "3d0f1442-dd3a-44aa-f512-33b360d08749"
      },
      "source": [
        "data_nonull"
      ],
      "execution_count": null,
      "outputs": [
        {
          "output_type": "execute_result",
          "data": {
            "text/html": [
              "<div>\n",
              "<style scoped>\n",
              "    .dataframe tbody tr th:only-of-type {\n",
              "        vertical-align: middle;\n",
              "    }\n",
              "\n",
              "    .dataframe tbody tr th {\n",
              "        vertical-align: top;\n",
              "    }\n",
              "\n",
              "    .dataframe thead th {\n",
              "        text-align: right;\n",
              "    }\n",
              "</style>\n",
              "<table border=\"1\" class=\"dataframe\">\n",
              "  <thead>\n",
              "    <tr style=\"text-align: right;\">\n",
              "      <th></th>\n",
              "      <th>Jenis_Kelamin</th>\n",
              "      <th>SIM</th>\n",
              "      <th>Kode_Daerah</th>\n",
              "      <th>Umur_Kendaraan</th>\n",
              "      <th>Kendaraan_Rusak</th>\n",
              "      <th>Premi</th>\n",
              "      <th>Lama_Berlangganan</th>\n",
              "      <th>Tertarik</th>\n",
              "    </tr>\n",
              "  </thead>\n",
              "  <tbody>\n",
              "    <tr>\n",
              "      <th>0</th>\n",
              "      <td>1.0</td>\n",
              "      <td>1.0</td>\n",
              "      <td>33.0</td>\n",
              "      <td>1.0</td>\n",
              "      <td>1.0</td>\n",
              "      <td>28029.0</td>\n",
              "      <td>97.0</td>\n",
              "      <td>0.0</td>\n",
              "    </tr>\n",
              "    <tr>\n",
              "      <th>1</th>\n",
              "      <td>0.0</td>\n",
              "      <td>1.0</td>\n",
              "      <td>39.0</td>\n",
              "      <td>2.0</td>\n",
              "      <td>0.0</td>\n",
              "      <td>25800.0</td>\n",
              "      <td>158.0</td>\n",
              "      <td>0.0</td>\n",
              "    </tr>\n",
              "    <tr>\n",
              "      <th>2</th>\n",
              "      <td>1.0</td>\n",
              "      <td>1.0</td>\n",
              "      <td>46.0</td>\n",
              "      <td>1.0</td>\n",
              "      <td>1.0</td>\n",
              "      <td>32733.0</td>\n",
              "      <td>119.0</td>\n",
              "      <td>0.0</td>\n",
              "    </tr>\n",
              "    <tr>\n",
              "      <th>3</th>\n",
              "      <td>1.0</td>\n",
              "      <td>1.0</td>\n",
              "      <td>48.0</td>\n",
              "      <td>0.0</td>\n",
              "      <td>1.0</td>\n",
              "      <td>2630.0</td>\n",
              "      <td>63.0</td>\n",
              "      <td>0.0</td>\n",
              "    </tr>\n",
              "    <tr>\n",
              "      <th>4</th>\n",
              "      <td>0.0</td>\n",
              "      <td>1.0</td>\n",
              "      <td>35.0</td>\n",
              "      <td>2.0</td>\n",
              "      <td>0.0</td>\n",
              "      <td>34857.0</td>\n",
              "      <td>194.0</td>\n",
              "      <td>0.0</td>\n",
              "    </tr>\n",
              "    <tr>\n",
              "      <th>...</th>\n",
              "      <td>...</td>\n",
              "      <td>...</td>\n",
              "      <td>...</td>\n",
              "      <td>...</td>\n",
              "      <td>...</td>\n",
              "      <td>...</td>\n",
              "      <td>...</td>\n",
              "      <td>...</td>\n",
              "    </tr>\n",
              "    <tr>\n",
              "      <th>274891</th>\n",
              "      <td>1.0</td>\n",
              "      <td>1.0</td>\n",
              "      <td>4.0</td>\n",
              "      <td>1.0</td>\n",
              "      <td>1.0</td>\n",
              "      <td>25988.0</td>\n",
              "      <td>217.0</td>\n",
              "      <td>0.0</td>\n",
              "    </tr>\n",
              "    <tr>\n",
              "      <th>274892</th>\n",
              "      <td>1.0</td>\n",
              "      <td>1.0</td>\n",
              "      <td>46.0</td>\n",
              "      <td>1.0</td>\n",
              "      <td>1.0</td>\n",
              "      <td>44686.0</td>\n",
              "      <td>50.0</td>\n",
              "      <td>0.0</td>\n",
              "    </tr>\n",
              "    <tr>\n",
              "      <th>274893</th>\n",
              "      <td>1.0</td>\n",
              "      <td>1.0</td>\n",
              "      <td>50.0</td>\n",
              "      <td>1.0</td>\n",
              "      <td>1.0</td>\n",
              "      <td>49751.0</td>\n",
              "      <td>226.0</td>\n",
              "      <td>0.0</td>\n",
              "    </tr>\n",
              "    <tr>\n",
              "      <th>274894</th>\n",
              "      <td>0.0</td>\n",
              "      <td>1.0</td>\n",
              "      <td>7.0</td>\n",
              "      <td>0.0</td>\n",
              "      <td>1.0</td>\n",
              "      <td>30503.0</td>\n",
              "      <td>270.0</td>\n",
              "      <td>0.0</td>\n",
              "    </tr>\n",
              "    <tr>\n",
              "      <th>274895</th>\n",
              "      <td>0.0</td>\n",
              "      <td>1.0</td>\n",
              "      <td>28.0</td>\n",
              "      <td>0.0</td>\n",
              "      <td>0.0</td>\n",
              "      <td>36480.0</td>\n",
              "      <td>44.0</td>\n",
              "      <td>0.0</td>\n",
              "    </tr>\n",
              "  </tbody>\n",
              "</table>\n",
              "<p>274896 rows × 8 columns</p>\n",
              "</div>"
            ],
            "text/plain": [
              "        Jenis_Kelamin  SIM  Kode_Daerah  ...    Premi  Lama_Berlangganan  Tertarik\n",
              "0                 1.0  1.0         33.0  ...  28029.0               97.0       0.0\n",
              "1                 0.0  1.0         39.0  ...  25800.0              158.0       0.0\n",
              "2                 1.0  1.0         46.0  ...  32733.0              119.0       0.0\n",
              "3                 1.0  1.0         48.0  ...   2630.0               63.0       0.0\n",
              "4                 0.0  1.0         35.0  ...  34857.0              194.0       0.0\n",
              "...               ...  ...          ...  ...      ...                ...       ...\n",
              "274891            1.0  1.0          4.0  ...  25988.0              217.0       0.0\n",
              "274892            1.0  1.0         46.0  ...  44686.0               50.0       0.0\n",
              "274893            1.0  1.0         50.0  ...  49751.0              226.0       0.0\n",
              "274894            0.0  1.0          7.0  ...  30503.0              270.0       0.0\n",
              "274895            0.0  1.0         28.0  ...  36480.0               44.0       0.0\n",
              "\n",
              "[274896 rows x 8 columns]"
            ]
          },
          "metadata": {
            "tags": []
          },
          "execution_count": 8
        }
      ]
    },
    {
      "cell_type": "code",
      "metadata": {
        "id": "2pM-lGcKnkzg"
      },
      "source": [
        "label = data_nonull.iloc[:, -1] #Menyimpan data dari fitur tertarik agar tidak dinormalisasi\n",
        "data_nonull.drop(['Tertarik'], axis=1, inplace=True) # Drop fitur tertarik"
      ],
      "execution_count": null,
      "outputs": []
    },
    {
      "cell_type": "code",
      "metadata": {
        "id": "AH4kAF7DlIPW"
      },
      "source": [
        "std = StandardScaler() #Menggunakan standard scaler untuk normalisasi\n",
        "data_scale = pd.DataFrame(std.fit_transform(data_nonull), columns=data_nonull.columns) #Lakukan normalisasi pada dataframe"
      ],
      "execution_count": null,
      "outputs": []
    },
    {
      "cell_type": "code",
      "metadata": {
        "id": "qqjhPYzVmGzn"
      },
      "source": [
        "data_scale = pd.concat([data_scale, label], axis=1) #Satuka data yang sudah dinormalisasi dengan data dari fitur tertarik"
      ],
      "execution_count": null,
      "outputs": []
    },
    {
      "cell_type": "code",
      "metadata": {
        "id": "ZuX1-XLomH2f",
        "colab": {
          "base_uri": "https://localhost:8080/",
          "height": 402
        },
        "outputId": "87b34409-cddf-4563-9a76-35709103c957"
      },
      "source": [
        "data_scale"
      ],
      "execution_count": null,
      "outputs": [
        {
          "output_type": "execute_result",
          "data": {
            "text/html": [
              "<div>\n",
              "<style scoped>\n",
              "    .dataframe tbody tr th:only-of-type {\n",
              "        vertical-align: middle;\n",
              "    }\n",
              "\n",
              "    .dataframe tbody tr th {\n",
              "        vertical-align: top;\n",
              "    }\n",
              "\n",
              "    .dataframe thead th {\n",
              "        text-align: right;\n",
              "    }\n",
              "</style>\n",
              "<table border=\"1\" class=\"dataframe\">\n",
              "  <thead>\n",
              "    <tr style=\"text-align: right;\">\n",
              "      <th></th>\n",
              "      <th>Jenis_Kelamin</th>\n",
              "      <th>SIM</th>\n",
              "      <th>Kode_Daerah</th>\n",
              "      <th>Umur_Kendaraan</th>\n",
              "      <th>Kendaraan_Rusak</th>\n",
              "      <th>Premi</th>\n",
              "      <th>Lama_Berlangganan</th>\n",
              "      <th>Tertarik</th>\n",
              "    </tr>\n",
              "  </thead>\n",
              "  <tbody>\n",
              "    <tr>\n",
              "      <th>0</th>\n",
              "      <td>1.074080</td>\n",
              "      <td>0.046101</td>\n",
              "      <td>0.513633</td>\n",
              "      <td>0.822436</td>\n",
              "      <td>0.999949</td>\n",
              "      <td>-0.230725</td>\n",
              "      <td>-0.699155</td>\n",
              "      <td>0.0</td>\n",
              "    </tr>\n",
              "    <tr>\n",
              "      <th>1</th>\n",
              "      <td>-0.931029</td>\n",
              "      <td>0.046101</td>\n",
              "      <td>0.977639</td>\n",
              "      <td>2.560784</td>\n",
              "      <td>-1.000051</td>\n",
              "      <td>-0.368249</td>\n",
              "      <td>0.044768</td>\n",
              "      <td>0.0</td>\n",
              "    </tr>\n",
              "    <tr>\n",
              "      <th>2</th>\n",
              "      <td>1.074080</td>\n",
              "      <td>0.046101</td>\n",
              "      <td>1.518980</td>\n",
              "      <td>0.822436</td>\n",
              "      <td>0.999949</td>\n",
              "      <td>0.059501</td>\n",
              "      <td>-0.430855</td>\n",
              "      <td>0.0</td>\n",
              "    </tr>\n",
              "    <tr>\n",
              "      <th>3</th>\n",
              "      <td>1.074080</td>\n",
              "      <td>0.046101</td>\n",
              "      <td>1.673649</td>\n",
              "      <td>-0.915912</td>\n",
              "      <td>0.999949</td>\n",
              "      <td>-1.797786</td>\n",
              "      <td>-1.113801</td>\n",
              "      <td>0.0</td>\n",
              "    </tr>\n",
              "    <tr>\n",
              "      <th>4</th>\n",
              "      <td>-0.931029</td>\n",
              "      <td>0.046101</td>\n",
              "      <td>0.668302</td>\n",
              "      <td>2.560784</td>\n",
              "      <td>-1.000051</td>\n",
              "      <td>0.190547</td>\n",
              "      <td>0.483804</td>\n",
              "      <td>0.0</td>\n",
              "    </tr>\n",
              "    <tr>\n",
              "      <th>...</th>\n",
              "      <td>...</td>\n",
              "      <td>...</td>\n",
              "      <td>...</td>\n",
              "      <td>...</td>\n",
              "      <td>...</td>\n",
              "      <td>...</td>\n",
              "      <td>...</td>\n",
              "      <td>...</td>\n",
              "    </tr>\n",
              "    <tr>\n",
              "      <th>274891</th>\n",
              "      <td>1.074080</td>\n",
              "      <td>0.046101</td>\n",
              "      <td>-1.729065</td>\n",
              "      <td>0.822436</td>\n",
              "      <td>0.999949</td>\n",
              "      <td>-0.356650</td>\n",
              "      <td>0.764300</td>\n",
              "      <td>0.0</td>\n",
              "    </tr>\n",
              "    <tr>\n",
              "      <th>274892</th>\n",
              "      <td>1.074080</td>\n",
              "      <td>0.046101</td>\n",
              "      <td>1.518980</td>\n",
              "      <td>0.822436</td>\n",
              "      <td>0.999949</td>\n",
              "      <td>0.796974</td>\n",
              "      <td>-1.272342</td>\n",
              "      <td>0.0</td>\n",
              "    </tr>\n",
              "    <tr>\n",
              "      <th>274893</th>\n",
              "      <td>1.074080</td>\n",
              "      <td>0.046101</td>\n",
              "      <td>1.828318</td>\n",
              "      <td>0.822436</td>\n",
              "      <td>0.999949</td>\n",
              "      <td>1.109473</td>\n",
              "      <td>0.874059</td>\n",
              "      <td>0.0</td>\n",
              "    </tr>\n",
              "    <tr>\n",
              "      <th>274894</th>\n",
              "      <td>-0.931029</td>\n",
              "      <td>0.046101</td>\n",
              "      <td>-1.497062</td>\n",
              "      <td>-0.915912</td>\n",
              "      <td>0.999949</td>\n",
              "      <td>-0.078085</td>\n",
              "      <td>1.410659</td>\n",
              "      <td>0.0</td>\n",
              "    </tr>\n",
              "    <tr>\n",
              "      <th>274895</th>\n",
              "      <td>-0.931029</td>\n",
              "      <td>0.046101</td>\n",
              "      <td>0.126961</td>\n",
              "      <td>-0.915912</td>\n",
              "      <td>-1.000051</td>\n",
              "      <td>0.290682</td>\n",
              "      <td>-1.345514</td>\n",
              "      <td>0.0</td>\n",
              "    </tr>\n",
              "  </tbody>\n",
              "</table>\n",
              "<p>274896 rows × 8 columns</p>\n",
              "</div>"
            ],
            "text/plain": [
              "        Jenis_Kelamin       SIM  ...  Lama_Berlangganan  Tertarik\n",
              "0            1.074080  0.046101  ...          -0.699155       0.0\n",
              "1           -0.931029  0.046101  ...           0.044768       0.0\n",
              "2            1.074080  0.046101  ...          -0.430855       0.0\n",
              "3            1.074080  0.046101  ...          -1.113801       0.0\n",
              "4           -0.931029  0.046101  ...           0.483804       0.0\n",
              "...               ...       ...  ...                ...       ...\n",
              "274891       1.074080  0.046101  ...           0.764300       0.0\n",
              "274892       1.074080  0.046101  ...          -1.272342       0.0\n",
              "274893       1.074080  0.046101  ...           0.874059       0.0\n",
              "274894      -0.931029  0.046101  ...           1.410659       0.0\n",
              "274895      -0.931029  0.046101  ...          -1.345514       0.0\n",
              "\n",
              "[274896 rows x 8 columns]"
            ]
          },
          "metadata": {
            "tags": []
          },
          "execution_count": 12
        }
      ]
    },
    {
      "cell_type": "code",
      "metadata": {
        "id": "NymEE_hsKU4A"
      },
      "source": [
        "#Menggunakan quantile untuk menentukan outlier dari data\n",
        "Q1 = data_scale['Premi'].quantile(0.25)\n",
        "Q3 = data_scale['Premi'].quantile(0.75)\n",
        "IQR = Q3-Q1\n",
        "\n",
        "Lower_Whisker = Q1 - 1.5*IQR\n",
        "Upper_Whisker = Q3 + 1.5*IQR\n"
      ],
      "execution_count": null,
      "outputs": []
    },
    {
      "cell_type": "code",
      "metadata": {
        "id": "tlbVo_-gx2MH"
      },
      "source": [
        "data_scale = data_scale[data_scale['Premi']<Upper_Whisker]#Memisahkan data dengan outlier yang tinggi\n",
        "label = data_scale.iloc[:, -1]"
      ],
      "execution_count": null,
      "outputs": []
    },
    {
      "cell_type": "code",
      "metadata": {
        "id": "BxgehHyGx__t",
        "colab": {
          "base_uri": "https://localhost:8080/",
          "height": 350
        },
        "outputId": "c5c4796b-196d-4c31-8774-3c0fb404a9ed"
      },
      "source": [
        "sns.boxplot(data_scale['Premi'])"
      ],
      "execution_count": null,
      "outputs": [
        {
          "output_type": "stream",
          "text": [
            "/usr/local/lib/python3.7/dist-packages/seaborn/_decorators.py:43: FutureWarning: Pass the following variable as a keyword arg: x. From version 0.12, the only valid positional argument will be `data`, and passing other arguments without an explicit keyword will result in an error or misinterpretation.\n",
            "  FutureWarning\n"
          ],
          "name": "stderr"
        },
        {
          "output_type": "execute_result",
          "data": {
            "text/plain": [
              "<matplotlib.axes._subplots.AxesSubplot at 0x7ff670950c10>"
            ]
          },
          "metadata": {
            "tags": []
          },
          "execution_count": 15
        },
        {
          "output_type": "display_data",
          "data": {
            "image/png": "[encoded data removed]",
            "text/plain": [
              "<Figure size 432x288 with 1 Axes>"
            ]
          },
          "metadata": {
            "tags": [],
            "needs_background": "light"
          }
        }
      ]
    },
    {
      "cell_type": "code",
      "metadata": {
        "id": "egE8yOrEnwgO"
      },
      "source": [
        "data_scale = data_scale.drop(['Tertarik'],axis=1)"
      ],
      "execution_count": null,
      "outputs": []
    },
    {
      "cell_type": "code",
      "metadata": {
        "id": "f4hjT-EFysHJ",
        "colab": {
          "base_uri": "https://localhost:8080/",
          "height": 402
        },
        "outputId": "9bc15ba9-a38e-4a93-b3f2-ded0f3fb75ff"
      },
      "source": [
        "data_scale"
      ],
      "execution_count": null,
      "outputs": [
        {
          "output_type": "execute_result",
          "data": {
            "text/html": [
              "<div>\n",
              "<style scoped>\n",
              "    .dataframe tbody tr th:only-of-type {\n",
              "        vertical-align: middle;\n",
              "    }\n",
              "\n",
              "    .dataframe tbody tr th {\n",
              "        vertical-align: top;\n",
              "    }\n",
              "\n",
              "    .dataframe thead th {\n",
              "        text-align: right;\n",
              "    }\n",
              "</style>\n",
              "<table border=\"1\" class=\"dataframe\">\n",
              "  <thead>\n",
              "    <tr style=\"text-align: right;\">\n",
              "      <th></th>\n",
              "      <th>Jenis_Kelamin</th>\n",
              "      <th>SIM</th>\n",
              "      <th>Kode_Daerah</th>\n",
              "      <th>Umur_Kendaraan</th>\n",
              "      <th>Kendaraan_Rusak</th>\n",
              "      <th>Premi</th>\n",
              "      <th>Lama_Berlangganan</th>\n",
              "    </tr>\n",
              "  </thead>\n",
              "  <tbody>\n",
              "    <tr>\n",
              "      <th>0</th>\n",
              "      <td>1.074080</td>\n",
              "      <td>0.046101</td>\n",
              "      <td>0.513633</td>\n",
              "      <td>0.822436</td>\n",
              "      <td>0.999949</td>\n",
              "      <td>-0.230725</td>\n",
              "      <td>-0.699155</td>\n",
              "    </tr>\n",
              "    <tr>\n",
              "      <th>1</th>\n",
              "      <td>-0.931029</td>\n",
              "      <td>0.046101</td>\n",
              "      <td>0.977639</td>\n",
              "      <td>2.560784</td>\n",
              "      <td>-1.000051</td>\n",
              "      <td>-0.368249</td>\n",
              "      <td>0.044768</td>\n",
              "    </tr>\n",
              "    <tr>\n",
              "      <th>2</th>\n",
              "      <td>1.074080</td>\n",
              "      <td>0.046101</td>\n",
              "      <td>1.518980</td>\n",
              "      <td>0.822436</td>\n",
              "      <td>0.999949</td>\n",
              "      <td>0.059501</td>\n",
              "      <td>-0.430855</td>\n",
              "    </tr>\n",
              "    <tr>\n",
              "      <th>3</th>\n",
              "      <td>1.074080</td>\n",
              "      <td>0.046101</td>\n",
              "      <td>1.673649</td>\n",
              "      <td>-0.915912</td>\n",
              "      <td>0.999949</td>\n",
              "      <td>-1.797786</td>\n",
              "      <td>-1.113801</td>\n",
              "    </tr>\n",
              "    <tr>\n",
              "      <th>4</th>\n",
              "      <td>-0.931029</td>\n",
              "      <td>0.046101</td>\n",
              "      <td>0.668302</td>\n",
              "      <td>2.560784</td>\n",
              "      <td>-1.000051</td>\n",
              "      <td>0.190547</td>\n",
              "      <td>0.483804</td>\n",
              "    </tr>\n",
              "    <tr>\n",
              "      <th>...</th>\n",
              "      <td>...</td>\n",
              "      <td>...</td>\n",
              "      <td>...</td>\n",
              "      <td>...</td>\n",
              "      <td>...</td>\n",
              "      <td>...</td>\n",
              "      <td>...</td>\n",
              "    </tr>\n",
              "    <tr>\n",
              "      <th>274891</th>\n",
              "      <td>1.074080</td>\n",
              "      <td>0.046101</td>\n",
              "      <td>-1.729065</td>\n",
              "      <td>0.822436</td>\n",
              "      <td>0.999949</td>\n",
              "      <td>-0.356650</td>\n",
              "      <td>0.764300</td>\n",
              "    </tr>\n",
              "    <tr>\n",
              "      <th>274892</th>\n",
              "      <td>1.074080</td>\n",
              "      <td>0.046101</td>\n",
              "      <td>1.518980</td>\n",
              "      <td>0.822436</td>\n",
              "      <td>0.999949</td>\n",
              "      <td>0.796974</td>\n",
              "      <td>-1.272342</td>\n",
              "    </tr>\n",
              "    <tr>\n",
              "      <th>274893</th>\n",
              "      <td>1.074080</td>\n",
              "      <td>0.046101</td>\n",
              "      <td>1.828318</td>\n",
              "      <td>0.822436</td>\n",
              "      <td>0.999949</td>\n",
              "      <td>1.109473</td>\n",
              "      <td>0.874059</td>\n",
              "    </tr>\n",
              "    <tr>\n",
              "      <th>274894</th>\n",
              "      <td>-0.931029</td>\n",
              "      <td>0.046101</td>\n",
              "      <td>-1.497062</td>\n",
              "      <td>-0.915912</td>\n",
              "      <td>0.999949</td>\n",
              "      <td>-0.078085</td>\n",
              "      <td>1.410659</td>\n",
              "    </tr>\n",
              "    <tr>\n",
              "      <th>274895</th>\n",
              "      <td>-0.931029</td>\n",
              "      <td>0.046101</td>\n",
              "      <td>0.126961</td>\n",
              "      <td>-0.915912</td>\n",
              "      <td>-1.000051</td>\n",
              "      <td>0.290682</td>\n",
              "      <td>-1.345514</td>\n",
              "    </tr>\n",
              "  </tbody>\n",
              "</table>\n",
              "<p>266787 rows × 7 columns</p>\n",
              "</div>"
            ],
            "text/plain": [
              "        Jenis_Kelamin       SIM  ...     Premi  Lama_Berlangganan\n",
              "0            1.074080  0.046101  ... -0.230725          -0.699155\n",
              "1           -0.931029  0.046101  ... -0.368249           0.044768\n",
              "2            1.074080  0.046101  ...  0.059501          -0.430855\n",
              "3            1.074080  0.046101  ... -1.797786          -1.113801\n",
              "4           -0.931029  0.046101  ...  0.190547           0.483804\n",
              "...               ...       ...  ...       ...                ...\n",
              "274891       1.074080  0.046101  ... -0.356650           0.764300\n",
              "274892       1.074080  0.046101  ...  0.796974          -1.272342\n",
              "274893       1.074080  0.046101  ...  1.109473           0.874059\n",
              "274894      -0.931029  0.046101  ... -0.078085           1.410659\n",
              "274895      -0.931029  0.046101  ...  0.290682          -1.345514\n",
              "\n",
              "[266787 rows x 7 columns]"
            ]
          },
          "metadata": {
            "tags": []
          },
          "execution_count": 17
        }
      ]
    },
    {
      "cell_type": "code",
      "metadata": {
        "id": "sFnNGCa4Wrnm"
      },
      "source": [
        "# data_scale.to_csv(\"/content/drive/MyDrive/Kuliah/Semester 6/ML_Malin_Machine Learning/Tugas/Tubes 1/kendaraan/kendaraan_train_scaled.csv\", index=False)"
      ],
      "execution_count": null,
      "outputs": []
    },
    {
      "cell_type": "markdown",
      "metadata": {
        "id": "OpGW0Pl8xj-W"
      },
      "source": [
        "# Data Split"
      ]
    },
    {
      "cell_type": "code",
      "metadata": {
        "id": "4lRkV7TMW2gi"
      },
      "source": [
        "data_scale = pd.read_csv(\"/content/drive/MyDrive/Kuliah/Semester 6/ML_Malin_Machine Learning/Tugas/Tubes 1/kendaraan/kendaraan_train_scaled.csv\")"
      ],
      "execution_count": null,
      "outputs": []
    },
    {
      "cell_type": "code",
      "metadata": {
        "id": "EX9QU-LjoqVD"
      },
      "source": [
        "from sklearn.model_selection import train_test_split #Import library untuk melakukan data split\n",
        "X_train, X_test, y_train, y_test = train_test_split(data_scale, label, test_size = 0.20, random_state = 42)"
      ],
      "execution_count": null,
      "outputs": []
    },
    {
      "cell_type": "markdown",
      "metadata": {
        "id": "mz8d8l9TXiUz"
      },
      "source": [
        "# KNN"
      ]
    },
    {
      "cell_type": "code",
      "metadata": {
        "id": "Lf03qwaoXlXE"
      },
      "source": [
        "classifier = KNeighborsClassifier(n_neighbors=30, metric='euclidean')  #KN menggunakan euclidian distance"
      ],
      "execution_count": null,
      "outputs": []
    },
    {
      "cell_type": "code",
      "metadata": {
        "colab": {
          "base_uri": "https://localhost:8080/"
        },
        "id": "LtEWW6Dk0_sp",
        "outputId": "0ca0021c-058e-4c74-811b-55157b43cb66"
      },
      "source": [
        "classifier.fit(X_train, y_train)#Melatih data train yang telah di split\n"
      ],
      "execution_count": null,
      "outputs": [
        {
          "output_type": "execute_result",
          "data": {
            "text/plain": [
              "KNeighborsClassifier(metric='euclidean', n_neighbors=30)"
            ]
          },
          "metadata": {
            "tags": []
          },
          "execution_count": 26
        }
      ]
    },
    {
      "cell_type": "code",
      "metadata": {
        "id": "ERQq1vf1X9tM"
      },
      "source": [
        "y_pred = classifier.predict(X_test)#Predict menggunakan data test"
      ],
      "execution_count": null,
      "outputs": []
    },
    {
      "cell_type": "code",
      "metadata": {
        "id": "0c-9cIqSgg3Y",
        "colab": {
          "base_uri": "https://localhost:8080/"
        },
        "outputId": "cd0484cb-eaea-4aa8-b618-ee5811cd5f20"
      },
      "source": [
        "print(accuracy_score(y_test,y_pred)) #Print Akurasi"
      ],
      "execution_count": null,
      "outputs": [
        {
          "output_type": "stream",
          "text": [
            "0.8763259492484726\n"
          ],
          "name": "stdout"
        }
      ]
    },
    {
      "cell_type": "markdown",
      "metadata": {
        "id": "hAxAEU4d8QGQ"
      },
      "source": [
        "# Random Forest Classifier"
      ]
    },
    {
      "cell_type": "code",
      "metadata": {
        "id": "ZBjP7e2P8Unm"
      },
      "source": [
        "from sklearn.ensemble import RandomForestClassifier #Menggunakan model random forest"
      ],
      "execution_count": null,
      "outputs": []
    },
    {
      "cell_type": "code",
      "metadata": {
        "id": "LA6k3X468X84"
      },
      "source": [
        "#Melakukan klasifikasi random forest\n",
        "classifier_rf = RandomForestClassifier(bootstrap=True, max_depth=50, max_features='auto', n_estimators=1200, min_samples_split=5, min_samples_leaf=4) \n"
      ],
      "execution_count": null,
      "outputs": []
    },
    {
      "cell_type": "code",
      "metadata": {
        "colab": {
          "base_uri": "https://localhost:8080/"
        },
        "id": "fZxTMuxH8X85",
        "outputId": "0669908f-5d73-4117-ff4c-01b490a763b9"
      },
      "source": [
        "classifier_rf.fit(X_train, y_train) #Melatih data train yang sudah di split"
      ],
      "execution_count": null,
      "outputs": [
        {
          "output_type": "execute_result",
          "data": {
            "text/plain": [
              "RandomForestClassifier(max_depth=50, min_samples_leaf=4, min_samples_split=5,\n",
              "                       n_estimators=1200)"
            ]
          },
          "metadata": {
            "tags": []
          },
          "execution_count": 34
        }
      ]
    },
    {
      "cell_type": "code",
      "metadata": {
        "id": "aQwQtvME8X86"
      },
      "source": [
        "y_pred_rf = classifier_rf.predict(X_test) #Predict menggunakan data test"
      ],
      "execution_count": null,
      "outputs": []
    },
    {
      "cell_type": "code",
      "metadata": {
        "colab": {
          "base_uri": "https://localhost:8080/"
        },
        "id": "ibVZKkaXbcLP",
        "outputId": "524a9a91-1bde-4171-a8a6-c1933c8cc82d"
      },
      "source": [
        "print(accuracy_score(y_test,y_pred_rf)) #Print Akurasi"
      ],
      "execution_count": null,
      "outputs": [
        {
          "output_type": "stream",
          "text": [
            "0.8749390906705649\n"
          ],
          "name": "stdout"
        }
      ]
    },
    {
      "cell_type": "markdown",
      "metadata": {
        "id": "bchXTy50wLUb"
      },
      "source": [
        "# Naive Bayes"
      ]
    },
    {
      "cell_type": "code",
      "metadata": {
        "id": "IeiKXGBGwM63"
      },
      "source": [
        "from sklearn.naive_bayes import GaussianNB #Menggunakan model naive bayes"
      ],
      "execution_count": null,
      "outputs": []
    },
    {
      "cell_type": "code",
      "metadata": {
        "id": "cTBOOfAdwN-n",
        "colab": {
          "base_uri": "https://localhost:8080/"
        },
        "outputId": "805e851b-f605-4afb-80cd-61e8872385f5"
      },
      "source": [
        "classifier_gb = GaussianNB()\n",
        "classifier_gb.fit(X_train, y_train)#Melatih data train yang telah di split"
      ],
      "execution_count": null,
      "outputs": [
        {
          "output_type": "execute_result",
          "data": {
            "text/plain": [
              "GaussianNB()"
            ]
          },
          "metadata": {
            "tags": []
          },
          "execution_count": 45
        }
      ]
    },
    {
      "cell_type": "code",
      "metadata": {
        "id": "f7AGphtiwZUy"
      },
      "source": [
        "y_pred_gb = classifier_gb.predict(X_test)#Prediksi menggunakan data test"
      ],
      "execution_count": null,
      "outputs": []
    },
    {
      "cell_type": "code",
      "metadata": {
        "colab": {
          "base_uri": "https://localhost:8080/"
        },
        "id": "soETWGQ8bjX3",
        "outputId": "07d01134-8c8e-4a51-8ec7-6c28094d9fab"
      },
      "source": [
        "print(accuracy_score(y_test,y_pred_gb)) #Print Akurasi"
      ],
      "execution_count": null,
      "outputs": [
        {
          "output_type": "stream",
          "text": [
            "0.6946474755425616\n"
          ],
          "name": "stdout"
        }
      ]
    },
    {
      "cell_type": "markdown",
      "metadata": {
        "id": "5pBmPLJUfsq8"
      },
      "source": [
        "# DecisionTre Classifier"
      ]
    },
    {
      "cell_type": "code",
      "metadata": {
        "id": "Rwbn9jEdfu_m"
      },
      "source": [
        "from sklearn.tree import DecisionTreeClassifier"
      ],
      "execution_count": null,
      "outputs": []
    },
    {
      "cell_type": "code",
      "metadata": {
        "id": "9y0T0cxMfv_M"
      },
      "source": [
        "classifier_tree = DecisionTreeClassifier()"
      ],
      "execution_count": null,
      "outputs": []
    },
    {
      "cell_type": "code",
      "metadata": {
        "colab": {
          "base_uri": "https://localhost:8080/"
        },
        "id": "QkM2J4zqf601",
        "outputId": "f8bb21c7-1158-4aa3-9631-db9194f9f08e"
      },
      "source": [
        "classifier_tree.fit(X_train, y_train)#Melatih data train yang telah di split"
      ],
      "execution_count": null,
      "outputs": [
        {
          "output_type": "execute_result",
          "data": {
            "text/plain": [
              "DecisionTreeClassifier()"
            ]
          },
          "metadata": {
            "tags": []
          },
          "execution_count": 70
        }
      ]
    },
    {
      "cell_type": "code",
      "metadata": {
        "id": "zY1PTT_yf602"
      },
      "source": [
        "y_pred_tree = classifier_gb.predict(X_test)#Prediksi menggunakan data test"
      ],
      "execution_count": null,
      "outputs": []
    },
    {
      "cell_type": "code",
      "metadata": {
        "colab": {
          "base_uri": "https://localhost:8080/"
        },
        "id": "w9-RElkOf602",
        "outputId": "399d9f1f-653e-4a2e-ba05-5f82a60635ac"
      },
      "source": [
        "print(accuracy_score(y_test,y_pred_tree)) #Print Akurasi"
      ],
      "execution_count": null,
      "outputs": [
        {
          "output_type": "stream",
          "text": [
            "0.6946474755425616\n"
          ],
          "name": "stdout"
        }
      ]
    },
    {
      "cell_type": "markdown",
      "metadata": {
        "id": "Q92uf9l3YVN0"
      },
      "source": [
        "# Data Test"
      ]
    },
    {
      "cell_type": "code",
      "metadata": {
        "id": "9QhK3lre53dE"
      },
      "source": [
        "data_test = pd.read_csv(\"/content/drive/MyDrive/Kuliah/Semester 6/ML_Malin_Machine Learning/Tugas/Tubes 1/kendaraan/kendaraan_test.csv\")"
      ],
      "execution_count": null,
      "outputs": []
    },
    {
      "cell_type": "code",
      "metadata": {
        "id": "pC_4srY57pFN",
        "colab": {
          "base_uri": "https://localhost:8080/",
          "height": 422
        },
        "outputId": "9dc312b4-163c-4ec0-dbd5-6336fb32b000"
      },
      "source": [
        "data_test"
      ],
      "execution_count": null,
      "outputs": [
        {
          "output_type": "execute_result",
          "data": {
            "text/html": [
              "<div>\n",
              "<style scoped>\n",
              "    .dataframe tbody tr th:only-of-type {\n",
              "        vertical-align: middle;\n",
              "    }\n",
              "\n",
              "    .dataframe tbody tr th {\n",
              "        vertical-align: top;\n",
              "    }\n",
              "\n",
              "    .dataframe thead th {\n",
              "        text-align: right;\n",
              "    }\n",
              "</style>\n",
              "<table border=\"1\" class=\"dataframe\">\n",
              "  <thead>\n",
              "    <tr style=\"text-align: right;\">\n",
              "      <th></th>\n",
              "      <th>Jenis_Kelamin</th>\n",
              "      <th>Umur</th>\n",
              "      <th>SIM</th>\n",
              "      <th>Kode_Daerah</th>\n",
              "      <th>Sudah_Asuransi</th>\n",
              "      <th>Umur_Kendaraan</th>\n",
              "      <th>Kendaraan_Rusak</th>\n",
              "      <th>Premi</th>\n",
              "      <th>Kanal_Penjualan</th>\n",
              "      <th>Lama_Berlangganan</th>\n",
              "      <th>Tertarik</th>\n",
              "    </tr>\n",
              "  </thead>\n",
              "  <tbody>\n",
              "    <tr>\n",
              "      <th>0</th>\n",
              "      <td>Wanita</td>\n",
              "      <td>49</td>\n",
              "      <td>1</td>\n",
              "      <td>8</td>\n",
              "      <td>0</td>\n",
              "      <td>1-2 Tahun</td>\n",
              "      <td>Pernah</td>\n",
              "      <td>46963</td>\n",
              "      <td>26</td>\n",
              "      <td>145</td>\n",
              "      <td>0</td>\n",
              "    </tr>\n",
              "    <tr>\n",
              "      <th>1</th>\n",
              "      <td>Pria</td>\n",
              "      <td>22</td>\n",
              "      <td>1</td>\n",
              "      <td>47</td>\n",
              "      <td>1</td>\n",
              "      <td>&lt; 1 Tahun</td>\n",
              "      <td>Tidak</td>\n",
              "      <td>39624</td>\n",
              "      <td>152</td>\n",
              "      <td>241</td>\n",
              "      <td>0</td>\n",
              "    </tr>\n",
              "    <tr>\n",
              "      <th>2</th>\n",
              "      <td>Pria</td>\n",
              "      <td>24</td>\n",
              "      <td>1</td>\n",
              "      <td>28</td>\n",
              "      <td>1</td>\n",
              "      <td>&lt; 1 Tahun</td>\n",
              "      <td>Tidak</td>\n",
              "      <td>110479</td>\n",
              "      <td>152</td>\n",
              "      <td>62</td>\n",
              "      <td>0</td>\n",
              "    </tr>\n",
              "    <tr>\n",
              "      <th>3</th>\n",
              "      <td>Pria</td>\n",
              "      <td>46</td>\n",
              "      <td>1</td>\n",
              "      <td>8</td>\n",
              "      <td>1</td>\n",
              "      <td>1-2 Tahun</td>\n",
              "      <td>Tidak</td>\n",
              "      <td>36266</td>\n",
              "      <td>124</td>\n",
              "      <td>34</td>\n",
              "      <td>0</td>\n",
              "    </tr>\n",
              "    <tr>\n",
              "      <th>4</th>\n",
              "      <td>Pria</td>\n",
              "      <td>35</td>\n",
              "      <td>1</td>\n",
              "      <td>23</td>\n",
              "      <td>0</td>\n",
              "      <td>1-2 Tahun</td>\n",
              "      <td>Pernah</td>\n",
              "      <td>26963</td>\n",
              "      <td>152</td>\n",
              "      <td>229</td>\n",
              "      <td>0</td>\n",
              "    </tr>\n",
              "    <tr>\n",
              "      <th>...</th>\n",
              "      <td>...</td>\n",
              "      <td>...</td>\n",
              "      <td>...</td>\n",
              "      <td>...</td>\n",
              "      <td>...</td>\n",
              "      <td>...</td>\n",
              "      <td>...</td>\n",
              "      <td>...</td>\n",
              "      <td>...</td>\n",
              "      <td>...</td>\n",
              "      <td>...</td>\n",
              "    </tr>\n",
              "    <tr>\n",
              "      <th>47634</th>\n",
              "      <td>Pria</td>\n",
              "      <td>61</td>\n",
              "      <td>1</td>\n",
              "      <td>46</td>\n",
              "      <td>0</td>\n",
              "      <td>&gt; 2 Tahun</td>\n",
              "      <td>Pernah</td>\n",
              "      <td>31039</td>\n",
              "      <td>124</td>\n",
              "      <td>67</td>\n",
              "      <td>0</td>\n",
              "    </tr>\n",
              "    <tr>\n",
              "      <th>47635</th>\n",
              "      <td>Pria</td>\n",
              "      <td>41</td>\n",
              "      <td>1</td>\n",
              "      <td>15</td>\n",
              "      <td>0</td>\n",
              "      <td>1-2 Tahun</td>\n",
              "      <td>Pernah</td>\n",
              "      <td>2630</td>\n",
              "      <td>157</td>\n",
              "      <td>232</td>\n",
              "      <td>0</td>\n",
              "    </tr>\n",
              "    <tr>\n",
              "      <th>47636</th>\n",
              "      <td>Pria</td>\n",
              "      <td>24</td>\n",
              "      <td>1</td>\n",
              "      <td>29</td>\n",
              "      <td>1</td>\n",
              "      <td>&lt; 1 Tahun</td>\n",
              "      <td>Tidak</td>\n",
              "      <td>33101</td>\n",
              "      <td>152</td>\n",
              "      <td>211</td>\n",
              "      <td>0</td>\n",
              "    </tr>\n",
              "    <tr>\n",
              "      <th>47637</th>\n",
              "      <td>Pria</td>\n",
              "      <td>59</td>\n",
              "      <td>1</td>\n",
              "      <td>30</td>\n",
              "      <td>0</td>\n",
              "      <td>1-2 Tahun</td>\n",
              "      <td>Pernah</td>\n",
              "      <td>37788</td>\n",
              "      <td>26</td>\n",
              "      <td>239</td>\n",
              "      <td>1</td>\n",
              "    </tr>\n",
              "    <tr>\n",
              "      <th>47638</th>\n",
              "      <td>Pria</td>\n",
              "      <td>52</td>\n",
              "      <td>1</td>\n",
              "      <td>31</td>\n",
              "      <td>0</td>\n",
              "      <td>1-2 Tahun</td>\n",
              "      <td>Tidak</td>\n",
              "      <td>2630</td>\n",
              "      <td>124</td>\n",
              "      <td>170</td>\n",
              "      <td>0</td>\n",
              "    </tr>\n",
              "  </tbody>\n",
              "</table>\n",
              "<p>47639 rows × 11 columns</p>\n",
              "</div>"
            ],
            "text/plain": [
              "      Jenis_Kelamin  Umur  SIM  ...  Kanal_Penjualan  Lama_Berlangganan Tertarik\n",
              "0            Wanita    49    1  ...               26                145        0\n",
              "1              Pria    22    1  ...              152                241        0\n",
              "2              Pria    24    1  ...              152                 62        0\n",
              "3              Pria    46    1  ...              124                 34        0\n",
              "4              Pria    35    1  ...              152                229        0\n",
              "...             ...   ...  ...  ...              ...                ...      ...\n",
              "47634          Pria    61    1  ...              124                 67        0\n",
              "47635          Pria    41    1  ...              157                232        0\n",
              "47636          Pria    24    1  ...              152                211        0\n",
              "47637          Pria    59    1  ...               26                239        1\n",
              "47638          Pria    52    1  ...              124                170        0\n",
              "\n",
              "[47639 rows x 11 columns]"
            ]
          },
          "metadata": {
            "tags": []
          },
          "execution_count": 90
        }
      ]
    },
    {
      "cell_type": "code",
      "metadata": {
        "id": "8JqmFVKMZCw6"
      },
      "source": [
        "label_t = data_test.iloc[:, -1]\n",
        "fitur_encode = [\"Jenis_Kelamin\", \"Umur_Kendaraan\", \"Kendaraan_Rusak\"]#Pilih fitur yang akan digunakan\n",
        "labelencoder = LabelEncoder()\n",
        "\n",
        "# Menggunakan label encoder kepada fitur yang sudah dipilih\n",
        "data_test[fitur_encode] = data_test[fitur_encode].apply(lambda series: pd.Series(\n",
        "    labelencoder.fit_transform(series[series.notnull()]),\n",
        "    index = series[series.notnull()].index\n",
        "  ))\n"
      ],
      "execution_count": null,
      "outputs": []
    },
    {
      "cell_type": "code",
      "metadata": {
        "colab": {
          "base_uri": "https://localhost:8080/",
          "height": 422
        },
        "id": "6H5Tt0xjDLI7",
        "outputId": "008598b1-a128-4de9-a3a7-1f5fdca5b300"
      },
      "source": [
        "data_test"
      ],
      "execution_count": null,
      "outputs": [
        {
          "output_type": "execute_result",
          "data": {
            "text/html": [
              "<div>\n",
              "<style scoped>\n",
              "    .dataframe tbody tr th:only-of-type {\n",
              "        vertical-align: middle;\n",
              "    }\n",
              "\n",
              "    .dataframe tbody tr th {\n",
              "        vertical-align: top;\n",
              "    }\n",
              "\n",
              "    .dataframe thead th {\n",
              "        text-align: right;\n",
              "    }\n",
              "</style>\n",
              "<table border=\"1\" class=\"dataframe\">\n",
              "  <thead>\n",
              "    <tr style=\"text-align: right;\">\n",
              "      <th></th>\n",
              "      <th>Jenis_Kelamin</th>\n",
              "      <th>Umur</th>\n",
              "      <th>SIM</th>\n",
              "      <th>Kode_Daerah</th>\n",
              "      <th>Sudah_Asuransi</th>\n",
              "      <th>Umur_Kendaraan</th>\n",
              "      <th>Kendaraan_Rusak</th>\n",
              "      <th>Premi</th>\n",
              "      <th>Kanal_Penjualan</th>\n",
              "      <th>Lama_Berlangganan</th>\n",
              "      <th>Tertarik</th>\n",
              "    </tr>\n",
              "  </thead>\n",
              "  <tbody>\n",
              "    <tr>\n",
              "      <th>0</th>\n",
              "      <td>1</td>\n",
              "      <td>49</td>\n",
              "      <td>1</td>\n",
              "      <td>8</td>\n",
              "      <td>0</td>\n",
              "      <td>0</td>\n",
              "      <td>0</td>\n",
              "      <td>46963</td>\n",
              "      <td>26</td>\n",
              "      <td>145</td>\n",
              "      <td>0</td>\n",
              "    </tr>\n",
              "    <tr>\n",
              "      <th>1</th>\n",
              "      <td>0</td>\n",
              "      <td>22</td>\n",
              "      <td>1</td>\n",
              "      <td>47</td>\n",
              "      <td>1</td>\n",
              "      <td>1</td>\n",
              "      <td>1</td>\n",
              "      <td>39624</td>\n",
              "      <td>152</td>\n",
              "      <td>241</td>\n",
              "      <td>0</td>\n",
              "    </tr>\n",
              "    <tr>\n",
              "      <th>2</th>\n",
              "      <td>0</td>\n",
              "      <td>24</td>\n",
              "      <td>1</td>\n",
              "      <td>28</td>\n",
              "      <td>1</td>\n",
              "      <td>1</td>\n",
              "      <td>1</td>\n",
              "      <td>110479</td>\n",
              "      <td>152</td>\n",
              "      <td>62</td>\n",
              "      <td>0</td>\n",
              "    </tr>\n",
              "    <tr>\n",
              "      <th>3</th>\n",
              "      <td>0</td>\n",
              "      <td>46</td>\n",
              "      <td>1</td>\n",
              "      <td>8</td>\n",
              "      <td>1</td>\n",
              "      <td>0</td>\n",
              "      <td>1</td>\n",
              "      <td>36266</td>\n",
              "      <td>124</td>\n",
              "      <td>34</td>\n",
              "      <td>0</td>\n",
              "    </tr>\n",
              "    <tr>\n",
              "      <th>4</th>\n",
              "      <td>0</td>\n",
              "      <td>35</td>\n",
              "      <td>1</td>\n",
              "      <td>23</td>\n",
              "      <td>0</td>\n",
              "      <td>0</td>\n",
              "      <td>0</td>\n",
              "      <td>26963</td>\n",
              "      <td>152</td>\n",
              "      <td>229</td>\n",
              "      <td>0</td>\n",
              "    </tr>\n",
              "    <tr>\n",
              "      <th>...</th>\n",
              "      <td>...</td>\n",
              "      <td>...</td>\n",
              "      <td>...</td>\n",
              "      <td>...</td>\n",
              "      <td>...</td>\n",
              "      <td>...</td>\n",
              "      <td>...</td>\n",
              "      <td>...</td>\n",
              "      <td>...</td>\n",
              "      <td>...</td>\n",
              "      <td>...</td>\n",
              "    </tr>\n",
              "    <tr>\n",
              "      <th>47634</th>\n",
              "      <td>0</td>\n",
              "      <td>61</td>\n",
              "      <td>1</td>\n",
              "      <td>46</td>\n",
              "      <td>0</td>\n",
              "      <td>2</td>\n",
              "      <td>0</td>\n",
              "      <td>31039</td>\n",
              "      <td>124</td>\n",
              "      <td>67</td>\n",
              "      <td>0</td>\n",
              "    </tr>\n",
              "    <tr>\n",
              "      <th>47635</th>\n",
              "      <td>0</td>\n",
              "      <td>41</td>\n",
              "      <td>1</td>\n",
              "      <td>15</td>\n",
              "      <td>0</td>\n",
              "      <td>0</td>\n",
              "      <td>0</td>\n",
              "      <td>2630</td>\n",
              "      <td>157</td>\n",
              "      <td>232</td>\n",
              "      <td>0</td>\n",
              "    </tr>\n",
              "    <tr>\n",
              "      <th>47636</th>\n",
              "      <td>0</td>\n",
              "      <td>24</td>\n",
              "      <td>1</td>\n",
              "      <td>29</td>\n",
              "      <td>1</td>\n",
              "      <td>1</td>\n",
              "      <td>1</td>\n",
              "      <td>33101</td>\n",
              "      <td>152</td>\n",
              "      <td>211</td>\n",
              "      <td>0</td>\n",
              "    </tr>\n",
              "    <tr>\n",
              "      <th>47637</th>\n",
              "      <td>0</td>\n",
              "      <td>59</td>\n",
              "      <td>1</td>\n",
              "      <td>30</td>\n",
              "      <td>0</td>\n",
              "      <td>0</td>\n",
              "      <td>0</td>\n",
              "      <td>37788</td>\n",
              "      <td>26</td>\n",
              "      <td>239</td>\n",
              "      <td>1</td>\n",
              "    </tr>\n",
              "    <tr>\n",
              "      <th>47638</th>\n",
              "      <td>0</td>\n",
              "      <td>52</td>\n",
              "      <td>1</td>\n",
              "      <td>31</td>\n",
              "      <td>0</td>\n",
              "      <td>0</td>\n",
              "      <td>1</td>\n",
              "      <td>2630</td>\n",
              "      <td>124</td>\n",
              "      <td>170</td>\n",
              "      <td>0</td>\n",
              "    </tr>\n",
              "  </tbody>\n",
              "</table>\n",
              "<p>47639 rows × 11 columns</p>\n",
              "</div>"
            ],
            "text/plain": [
              "       Jenis_Kelamin  Umur  SIM  ...  Kanal_Penjualan  Lama_Berlangganan  Tertarik\n",
              "0                  1    49    1  ...               26                145         0\n",
              "1                  0    22    1  ...              152                241         0\n",
              "2                  0    24    1  ...              152                 62         0\n",
              "3                  0    46    1  ...              124                 34         0\n",
              "4                  0    35    1  ...              152                229         0\n",
              "...              ...   ...  ...  ...              ...                ...       ...\n",
              "47634              0    61    1  ...              124                 67         0\n",
              "47635              0    41    1  ...              157                232         0\n",
              "47636              0    24    1  ...              152                211         0\n",
              "47637              0    59    1  ...               26                239         1\n",
              "47638              0    52    1  ...              124                170         0\n",
              "\n",
              "[47639 rows x 11 columns]"
            ]
          },
          "metadata": {
            "tags": []
          },
          "execution_count": 92
        }
      ]
    },
    {
      "cell_type": "code",
      "metadata": {
        "id": "-7F3tXcdYeqB"
      },
      "source": [
        "data_test.drop(['Tertarik'], axis=1, inplace=True)#Drop fitur yang tidak akan dinormalisasi\n",
        "\n",
        "std = StandardScaler()\n",
        "data_scale_t = pd.DataFrame(std.fit_transform(data_test), columns=data_test.columns)#Normalisasi data menggunakan standard scaler\n",
        "\n",
        "data_scale_t = pd.concat([data_scale_t, label_t], axis=1)#HAPUS TIW GAGUNA"
      ],
      "execution_count": null,
      "outputs": []
    },
    {
      "cell_type": "code",
      "metadata": {
        "id": "n87yDQK9i-NQ"
      },
      "source": [
        "data_scale_t.drop(['Tertarik'], axis=1, inplace=True)\n",
        "data_scale_t.drop(dropped, axis=1, inplace=True)"
      ],
      "execution_count": null,
      "outputs": []
    },
    {
      "cell_type": "code",
      "metadata": {
        "colab": {
          "base_uri": "https://localhost:8080/",
          "height": 402
        },
        "id": "eXXbQXCvllpT",
        "outputId": "a8ac8715-5750-493d-d78c-948dca2c7b6f"
      },
      "source": [
        "data_scale_t"
      ],
      "execution_count": null,
      "outputs": [
        {
          "output_type": "execute_result",
          "data": {
            "text/html": [
              "<div>\n",
              "<style scoped>\n",
              "    .dataframe tbody tr th:only-of-type {\n",
              "        vertical-align: middle;\n",
              "    }\n",
              "\n",
              "    .dataframe tbody tr th {\n",
              "        vertical-align: top;\n",
              "    }\n",
              "\n",
              "    .dataframe thead th {\n",
              "        text-align: right;\n",
              "    }\n",
              "</style>\n",
              "<table border=\"1\" class=\"dataframe\">\n",
              "  <thead>\n",
              "    <tr style=\"text-align: right;\">\n",
              "      <th></th>\n",
              "      <th>Jenis_Kelamin</th>\n",
              "      <th>SIM</th>\n",
              "      <th>Kode_Daerah</th>\n",
              "      <th>Umur_Kendaraan</th>\n",
              "      <th>Kendaraan_Rusak</th>\n",
              "      <th>Premi</th>\n",
              "      <th>Lama_Berlangganan</th>\n",
              "    </tr>\n",
              "  </thead>\n",
              "  <tbody>\n",
              "    <tr>\n",
              "      <th>0</th>\n",
              "      <td>1.090132</td>\n",
              "      <td>0.045634</td>\n",
              "      <td>-1.387362</td>\n",
              "      <td>-0.897003</td>\n",
              "      <td>-0.990744</td>\n",
              "      <td>0.938632</td>\n",
              "      <td>-0.112954</td>\n",
              "    </tr>\n",
              "    <tr>\n",
              "      <th>1</th>\n",
              "      <td>-0.917320</td>\n",
              "      <td>0.045634</td>\n",
              "      <td>1.564228</td>\n",
              "      <td>0.836278</td>\n",
              "      <td>1.009343</td>\n",
              "      <td>0.516962</td>\n",
              "      <td>1.034805</td>\n",
              "    </tr>\n",
              "    <tr>\n",
              "      <th>2</th>\n",
              "      <td>-0.917320</td>\n",
              "      <td>0.045634</td>\n",
              "      <td>0.126274</td>\n",
              "      <td>0.836278</td>\n",
              "      <td>1.009343</td>\n",
              "      <td>4.588010</td>\n",
              "      <td>-1.105287</td>\n",
              "    </tr>\n",
              "    <tr>\n",
              "      <th>3</th>\n",
              "      <td>-0.917320</td>\n",
              "      <td>0.045634</td>\n",
              "      <td>-1.387362</td>\n",
              "      <td>-0.897003</td>\n",
              "      <td>1.009343</td>\n",
              "      <td>0.324024</td>\n",
              "      <td>-1.440050</td>\n",
              "    </tr>\n",
              "    <tr>\n",
              "      <th>4</th>\n",
              "      <td>-0.917320</td>\n",
              "      <td>0.045634</td>\n",
              "      <td>-0.252135</td>\n",
              "      <td>-0.897003</td>\n",
              "      <td>-0.990744</td>\n",
              "      <td>-0.210489</td>\n",
              "      <td>0.891336</td>\n",
              "    </tr>\n",
              "    <tr>\n",
              "      <th>...</th>\n",
              "      <td>...</td>\n",
              "      <td>...</td>\n",
              "      <td>...</td>\n",
              "      <td>...</td>\n",
              "      <td>...</td>\n",
              "      <td>...</td>\n",
              "      <td>...</td>\n",
              "    </tr>\n",
              "    <tr>\n",
              "      <th>47634</th>\n",
              "      <td>-0.917320</td>\n",
              "      <td>0.045634</td>\n",
              "      <td>1.488547</td>\n",
              "      <td>2.569559</td>\n",
              "      <td>-0.990744</td>\n",
              "      <td>0.023702</td>\n",
              "      <td>-1.045508</td>\n",
              "    </tr>\n",
              "    <tr>\n",
              "      <th>47635</th>\n",
              "      <td>-0.917320</td>\n",
              "      <td>0.045634</td>\n",
              "      <td>-0.857589</td>\n",
              "      <td>-0.897003</td>\n",
              "      <td>-0.990744</td>\n",
              "      <td>-1.608567</td>\n",
              "      <td>0.927203</td>\n",
              "    </tr>\n",
              "    <tr>\n",
              "      <th>47636</th>\n",
              "      <td>-0.917320</td>\n",
              "      <td>0.045634</td>\n",
              "      <td>0.201956</td>\n",
              "      <td>0.836278</td>\n",
              "      <td>1.009343</td>\n",
              "      <td>0.142176</td>\n",
              "      <td>0.676131</td>\n",
              "    </tr>\n",
              "    <tr>\n",
              "      <th>47637</th>\n",
              "      <td>-0.917320</td>\n",
              "      <td>0.045634</td>\n",
              "      <td>0.277638</td>\n",
              "      <td>-0.897003</td>\n",
              "      <td>-0.990744</td>\n",
              "      <td>0.411473</td>\n",
              "      <td>1.010894</td>\n",
              "    </tr>\n",
              "    <tr>\n",
              "      <th>47638</th>\n",
              "      <td>-0.917320</td>\n",
              "      <td>0.045634</td>\n",
              "      <td>0.353319</td>\n",
              "      <td>-0.897003</td>\n",
              "      <td>1.009343</td>\n",
              "      <td>-1.608567</td>\n",
              "      <td>0.185942</td>\n",
              "    </tr>\n",
              "  </tbody>\n",
              "</table>\n",
              "<p>47639 rows × 7 columns</p>\n",
              "</div>"
            ],
            "text/plain": [
              "       Jenis_Kelamin       SIM  ...     Premi  Lama_Berlangganan\n",
              "0           1.090132  0.045634  ...  0.938632          -0.112954\n",
              "1          -0.917320  0.045634  ...  0.516962           1.034805\n",
              "2          -0.917320  0.045634  ...  4.588010          -1.105287\n",
              "3          -0.917320  0.045634  ...  0.324024          -1.440050\n",
              "4          -0.917320  0.045634  ... -0.210489           0.891336\n",
              "...              ...       ...  ...       ...                ...\n",
              "47634      -0.917320  0.045634  ...  0.023702          -1.045508\n",
              "47635      -0.917320  0.045634  ... -1.608567           0.927203\n",
              "47636      -0.917320  0.045634  ...  0.142176           0.676131\n",
              "47637      -0.917320  0.045634  ...  0.411473           1.010894\n",
              "47638      -0.917320  0.045634  ... -1.608567           0.185942\n",
              "\n",
              "[47639 rows x 7 columns]"
            ]
          },
          "metadata": {
            "tags": []
          },
          "execution_count": 95
        }
      ]
    },
    {
      "cell_type": "code",
      "metadata": {
        "colab": {
          "base_uri": "https://localhost:8080/"
        },
        "id": "8r9E5OxgY-mQ",
        "outputId": "c004ede6-e6c3-47a2-ae03-742f8989dd5b"
      },
      "source": [
        "# KNN\n",
        "y_pred = classifier.predict(data_scale_t)#Prediksi menggunakan data test\n",
        "\n",
        "print(\"Akurasi Data Test\")\n",
        "\n",
        "print(accuracy_score(label_t, y_pred))#Lakukan perhitungan performansi terhadap data prediksi serta data test"
      ],
      "execution_count": null,
      "outputs": [
        {
          "output_type": "stream",
          "text": [
            "Akurasi Data Test\n",
            "0.8761518923571023\n"
          ],
          "name": "stdout"
        }
      ]
    },
    {
      "cell_type": "code",
      "metadata": {
        "colab": {
          "base_uri": "https://localhost:8080/"
        },
        "id": "cLi15d03y9l5",
        "outputId": "170e00e1-07b4-4637-bed8-9b646b427d67"
      },
      "source": [
        "# Random Forest\n",
        "y_pred_rf = classifier_rf.predict(data_scale_t)#Prediksi menggunakan data test\n",
        "\n",
        "print(\"Akurasi Data Test\")\n",
        "\n",
        "print(accuracy_score(label_t, y_pred_rf))#Lakukan perhitungan performansi terhadap data prediksi serta data test"
      ],
      "execution_count": null,
      "outputs": [
        {
          "output_type": "stream",
          "text": [
            "Akurasi Data Test\n",
            "0.8761518923571023\n"
          ],
          "name": "stdout"
        }
      ]
    },
    {
      "cell_type": "code",
      "metadata": {
        "colab": {
          "base_uri": "https://localhost:8080/"
        },
        "id": "B4TaehQnc8mu",
        "outputId": "e2221b65-9ec3-4a88-f43f-f3a71421ce53"
      },
      "source": [
        "# Naive Bayes\n",
        "y_pred_nb = classifier_gb.predict(data_scale_t)#Prediksi menggunakan data test\n",
        "\n",
        "print(\"Akurasi Data Test\")\n",
        "\n",
        "print(accuracy_score(label_t, y_pred_nb))#Lakukan perhitungan performansi terhadap data prediksi serta data test"
      ],
      "execution_count": null,
      "outputs": [
        {
          "output_type": "stream",
          "text": [
            "Akurasi Data Test\n",
            "0.6883855664476585\n"
          ],
          "name": "stdout"
        }
      ]
    },
    {
      "cell_type": "code",
      "metadata": {
        "colab": {
          "base_uri": "https://localhost:8080/"
        },
        "id": "IDa_MgGTcvGH",
        "outputId": "2d3323d5-4d44-4404-ef38-3a48115459a0"
      },
      "source": [
        "# Decision Tree\n",
        "y_pred_tree = classifier_tree.predict(data_scale_t)#Prediksi menggunakan data test\n",
        "\n",
        "print(\"Akurasi Data Test\")\n",
        "\n",
        "print(accuracy_score(label_t, y_pred_tree))#Lakukan perhitungan performansi terhadap data prediksi serta data test"
      ],
      "execution_count": null,
      "outputs": [
        {
          "output_type": "stream",
          "text": [
            "Akurasi Data Test\n",
            "0.80238879909318\n"
          ],
          "name": "stdout"
        }
      ]
    }
  ]
}